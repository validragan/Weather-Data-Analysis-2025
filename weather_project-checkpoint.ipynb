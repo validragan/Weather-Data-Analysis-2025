{
 "cells": [
  {
   "cell_type": "markdown",
   "metadata": {},
   "source": [
    "# Weather Data Analysis 2025\n",
    "Acest notebook încarcă datele meteo, extrage luna din data, calculează temperatura medie pe lună și salvează un grafic în folderul dashboard."
   ]
  },
  {
   "cell_type": "code",
   "execution_count": null,
   "metadata": {},
   "outputs": [],
   "source": [
    "import pandas as pd\n",
    "import matplotlib.pyplot as plt\n",
    "import os\n",
    "\n",
    "# Calea către fișierul CSV (relativă la acest notebook)\n",
    "file_path = '../data/weather.csv'\n",
    "\n",
    "# Verifică dacă fișierul există\n",
    "if not os.path.exists(file_path):\n",
    "    raise FileNotFoundError(f'❌ Fișierul nu a fost găsit la: {file_path}')\n",
    "\n",
    "# Încarcă datele\n",
    "data = pd.read_csv(file_path)\n",
    "print('✅ Coloane găsite:', data.columns.tolist())\n",
    "\n",
    "# Curățare valori lipsă\n",
    "data = data.dropna()\n",
    "\n",
    "# Creare coloană 'Month' din 'Date_Time'\n",
    "data['Month'] = pd.to_datetime(data['Date_Time']).dt.month\n",
    "\n",
    "# Calcul temperatură medie pe lună\n",
    "monthly_avg = data.groupby('Month')['Temperature_C'].mean()\n",
    "\n",
    "# Creare grafic\n",
    "plt.figure(figsize=(10, 5))\n",
    "monthly_avg.plot(kind='bar', color='skyblue')\n",
    "plt.title('Temperatura medie pe lună')\n",
    "plt.ylabel('Celsius')\n",
    "plt.xlabel('Luna')\n",
    "plt.grid(axis='y', linestyle='--', alpha=0.7)\n",
    "\n",
    "# Salvare grafic\n",
    "output_path = '../dashboard/weather_monthly_avg.png'\n",
    "os.makedirs(os.path.dirname(output_path), exist_ok=True)\n",
    "plt.savefig(output_path)\n",
    "plt.show()\n",
    "\n",
    "print(f'✅ Grafic salvat la: {output_path}')"
   ]
  }
 ],
 "metadata": {
  "kernelspec": {
   "display_name": "Python 3",
   "language": "python",
   "name": "python3"
  },
  "language_info": {
   "name": "python",
   "version": "3.x"
  }
 },
 "nbformat": 4,
 "nbformat_minor": 5
}